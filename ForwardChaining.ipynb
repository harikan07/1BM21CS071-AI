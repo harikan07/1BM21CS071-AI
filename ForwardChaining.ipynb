{
  "nbformat": 4,
  "nbformat_minor": 0,
  "metadata": {
    "colab": {
      "provenance": [],
      "include_colab_link": true
    },
    "kernelspec": {
      "name": "python3",
      "display_name": "Python 3"
    },
    "language_info": {
      "name": "python"
    }
  },
  "cells": [
    {
      "cell_type": "markdown",
      "metadata": {
        "id": "view-in-github",
        "colab_type": "text"
      },
      "source": [
        "<a href=\"https://colab.research.google.com/github/harikan07/1BM21CS071-AI/blob/main/ForwardChaining.ipynb\" target=\"_parent\"><img src=\"https://colab.research.google.com/assets/colab-badge.svg\" alt=\"Open In Colab\"/></a>"
      ]
    },
    {
      "cell_type": "code",
      "execution_count": null,
      "metadata": {
        "id": "owyyA52JWvE1"
      },
      "outputs": [],
      "source": [
        "import re\n",
        "\n",
        "def isVariable(x):\n",
        "    return len(x) == 1 and x.islower() and x.isalpha()\n",
        "\n",
        "def getAttributes(string):\n",
        "    expr = '\\([^)]+\\)'\n",
        "    matches = re.findall(expr, string)\n",
        "    return matches\n",
        "\n",
        "def getPredicates(string):\n",
        "    expr = '([a-z~]+)\\([^&|]+\\)'\n",
        "    return re.findall(expr, string)"
      ]
    },
    {
      "cell_type": "code",
      "source": [
        "class Fact:\n",
        "    def __init__(self, expression):\n",
        "        self.expression = expression\n",
        "        predicate, params = self.splitExpression(expression)\n",
        "        self.predicate = predicate\n",
        "        self.params = params\n",
        "        self.result = any(self.getConstants())\n",
        "\n",
        "    def splitExpression(self, expression):\n",
        "        predicate = getPredicates(expression)[0]\n",
        "        params = getAttributes(expression)[0].strip('()').split(',')\n",
        "        return [predicate, params]\n",
        "\n",
        "    def getResult(self):\n",
        "        return self.result\n",
        "\n",
        "    def getConstants(self):\n",
        "        return [None if isVariable(c) else c for c in self.params]\n",
        "\n",
        "    def getVariables(self):\n",
        "        return [v if isVariable(v) else None for v in self.params]\n",
        "\n",
        "    def substitute(self, constants):\n",
        "        c = constants.copy()\n",
        "        f = f\"{self.predicate}({','.join([constants.pop(0) if isVariable(p) else p for p in self.params])})\"\n",
        "        return Fact(f)\n",
        "\n",
        "class Implication:\n",
        "    def __init__(self, expression):\n",
        "        self.expression = expression\n",
        "        l = expression.split('=>')\n",
        "        self.lhs = [Fact(f) for f in l[0].split('&')]\n",
        "        self.rhs = Fact(l[1])\n",
        "\n",
        "    def evaluate(self, facts):\n",
        "        constants = {}\n",
        "        new_lhs = []\n",
        "        for fact in facts:\n",
        "            for val in self.lhs:\n",
        "                if val.predicate == fact.predicate:\n",
        "                    for i, v in enumerate(val.getVariables()):\n",
        "                        if v:\n",
        "                            constants[v] = fact.getConstants()[i]\n",
        "                    new_lhs.append(fact)\n",
        "        predicate, attributes = getPredicates(self.rhs.expression)[0], str(getAttributes(self.rhs.expression)[0])\n",
        "        for key in constants:\n",
        "            if constants[key]:\n",
        "                attributes = attributes.replace(key, constants[key])\n",
        "        expr = f'{predicate}{attributes}'\n",
        "        return Fact(expr) if len(new_lhs) and all([f.getResult() for f in new_lhs]) else None\n",
        "\n",
        "class KB:\n",
        "    def __init__(self):\n",
        "        self.facts = set()\n",
        "        self.implications = set()\n",
        "\n",
        "    def tell(self, e):\n",
        "        if '=>' in e:\n",
        "            self.implications.add(Implication(e))\n",
        "        else:\n",
        "            self.facts.add(Fact(e))\n",
        "        for i in self.implications:\n",
        "            res = i.evaluate(self.facts)\n",
        "            if res:\n",
        "                self.facts.add(res)\n",
        "\n",
        "    def query(self, e):\n",
        "        facts = set([f.expression for f in self.facts])\n",
        "        i = 1\n",
        "        print(f'Querying {e}:')\n",
        "        for f in facts:\n",
        "            if Fact(f).predicate == Fact(e).predicate:\n",
        "                print(f'\\t{i}. {f}')\n",
        "                i += 1\n",
        "\n",
        "    def display(self):\n",
        "        print(\"All facts: \")\n",
        "        for i, f in enumerate(set([f.expression for f in self.facts])):\n",
        "            print(f'\\t{i+1}. {f}')"
      ],
      "metadata": {
        "id": "5JALw-a4Xgpw"
      },
      "execution_count": null,
      "outputs": []
    },
    {
      "cell_type": "code",
      "source": [
        "kb = KB()\n",
        "kb.tell('missile(x)=>weapon(x)')\n",
        "kb.tell('missile(M1)')\n",
        "kb.tell('enemy(x,America)=>hostile(x)')\n",
        "kb.tell('american(West)')\n",
        "kb.tell('enemy(Nono,America)')\n",
        "kb.tell('owns(Nono,M1)')\n",
        "kb.tell('missile(x)&owns(Nono,x)=>sells(West,x,Nono)')\n",
        "kb.tell('american(x)&weapon(y)&sells(x,y,z)&hostile(z)=>criminal(x)')\n",
        "kb.query('criminal(x)')\n",
        "kb.display()"
      ],
      "metadata": {
        "colab": {
          "base_uri": "https://localhost:8080/"
        },
        "id": "QovifRHOXkU4",
        "outputId": "3d8f1b43-b84a-4f8e-c638-d78ec5b36587"
      },
      "execution_count": null,
      "outputs": [
        {
          "output_type": "stream",
          "name": "stdout",
          "text": [
            "Querying criminal(x):\n",
            "\t1. criminal(West)\n",
            "All facts: \n",
            "\t1. enemy(Nono,America)\n",
            "\t2. hostile(Nono)\n",
            "\t3. sells(West,M1,Nono)\n",
            "\t4. criminal(West)\n",
            "\t5. owns(Nono,M1)\n",
            "\t6. weapon(M1)\n",
            "\t7. american(West)\n",
            "\t8. missile(M1)\n"
          ]
        }
      ]
    },
    {
      "cell_type": "code",
      "source": [
        "kb_ = KB()\n",
        "kb_.tell('king(x)&greedy(x)=>evil(x)')\n",
        "kb_.tell('king(John)')\n",
        "kb_.tell('greedy(John)')\n",
        "kb_.tell('king(Richard)')\n",
        "kb_.query('evil(x)')"
      ],
      "metadata": {
        "colab": {
          "base_uri": "https://localhost:8080/"
        },
        "id": "Ogs6De-hXo3-",
        "outputId": "b05af719-81d2-407b-8cd5-21f6bfe4b052"
      },
      "execution_count": null,
      "outputs": [
        {
          "output_type": "stream",
          "name": "stdout",
          "text": [
            "Querying evil(x):\n",
            "\t1. evil(John)\n"
          ]
        }
      ]
    }
  ]
}