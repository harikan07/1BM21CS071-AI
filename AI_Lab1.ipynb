{
  "nbformat": 4,
  "nbformat_minor": 0,
  "metadata": {
    "colab": {
      "provenance": [],
      "authorship_tag": "ABX9TyOWdbCNOowfwseI2ZNw4mBL",
      "include_colab_link": true
    },
    "kernelspec": {
      "name": "python3",
      "display_name": "Python 3"
    },
    "language_info": {
      "name": "python"
    }
  },
  "cells": [
    {
      "cell_type": "markdown",
      "metadata": {
        "id": "view-in-github",
        "colab_type": "text"
      },
      "source": [
        "<a href=\"https://colab.research.google.com/github/harikan07/1BM21CS071-AI/blob/main/AI_Lab1.ipynb\" target=\"_parent\"><img src=\"https://colab.research.google.com/assets/colab-badge.svg\" alt=\"Open In Colab\"/></a>"
      ]
    },
    {
      "cell_type": "markdown",
      "source": [
        "Harika N (1BM21CS071)"
      ],
      "metadata": {
        "id": "hPPGJpqBnZUT"
      }
    },
    {
      "cell_type": "code",
      "execution_count": null,
      "metadata": {
        "colab": {
          "base_uri": "https://localhost:8080/"
        },
        "id": "WmKPC0YDcnnf",
        "outputId": "9d2c8b1e-7a51-4735-cd70-9afa14be7d0d"
      },
      "outputs": [
        {
          "output_type": "stream",
          "name": "stdout",
          "text": [
            "Enter your age20\n",
            "You are an Adult\n"
          ]
        }
      ],
      "source": [
        "#Q1 Age Based Segregation\n",
        "age = int(input(\"Enter your age\"))\n",
        "if age < 0:\n",
        "    print(\"You are not born yet\")\n",
        "elif age < 10:\n",
        "    print(\"You are toddler\")\n",
        "elif age<20:\n",
        "    print(\"You are a Teenager\")\n",
        "elif age<50:\n",
        "    print(\"You are an Adult\")\n",
        "else:\n",
        "    print(\"You are Senior Citizen\")"
      ]
    },
    {
      "cell_type": "code",
      "source": [
        "#Q2 Print Multiplication table\n",
        "a = int(input(\"Enter the number whose Multiplication table:\\n\"))\n",
        "i = 1\n",
        "while i<=10:\n",
        "  print(a,\"*\",i,\"=\",a*i)\n",
        "  i = i+1"
      ],
      "metadata": {
        "colab": {
          "base_uri": "https://localhost:8080/"
        },
        "id": "BXGYJFEoc7e0",
        "outputId": "3981b39e-8963-4fbe-9b7f-9fd87b558df3"
      },
      "execution_count": null,
      "outputs": [
        {
          "output_type": "stream",
          "name": "stdout",
          "text": [
            "Enter the number whose Multiplication table:\n",
            "5\n",
            "5 * 1 = 5\n",
            "5 * 2 = 10\n",
            "5 * 3 = 15\n",
            "5 * 4 = 20\n",
            "5 * 5 = 25\n",
            "5 * 6 = 30\n",
            "5 * 7 = 35\n",
            "5 * 8 = 40\n",
            "5 * 9 = 45\n",
            "5 * 10 = 50\n"
          ]
        }
      ]
    },
    {
      "cell_type": "code",
      "source": [
        "#Q3 Print the pattern\n",
        "a = int(input(\"Enter the length:\\n\"))\n",
        "for i in range(a+1):\n",
        "  for j in range(i):\n",
        "    print(i,end=\" \")\n",
        "  print(\"\")"
      ],
      "metadata": {
        "colab": {
          "base_uri": "https://localhost:8080/"
        },
        "id": "VayA7dc5dI8s",
        "outputId": "41cc98f8-c02a-498d-a90c-5ccc9c23bfdb"
      },
      "execution_count": null,
      "outputs": [
        {
          "output_type": "stream",
          "name": "stdout",
          "text": [
            "Enter the length:\n",
            "5\n",
            "\n",
            "1 \n",
            "2 2 \n",
            "3 3 3 \n",
            "4 4 4 4 \n",
            "5 5 5 5 5 \n"
          ]
        }
      ]
    },
    {
      "cell_type": "code",
      "source": [
        "#Q4 Bubble Sort\n",
        "a = int(input(\"Enter length of list\"));\n",
        "list = [];\n",
        "for i in range(a):\n",
        "  list.append(int(input(\"Enter Number\")))\n",
        "print(\"Before Sorting\",list)\n",
        "for i in range(a):\n",
        "  j = i\n",
        "  while j<a:\n",
        "    if(list[i]>list[j]):\n",
        "      temp = list[i]\n",
        "      list[i]=list[j]\n",
        "      list[j] = temp\n",
        "    j = j+1\n",
        "print(\"After Sorting\",list)"
      ],
      "metadata": {
        "colab": {
          "base_uri": "https://localhost:8080/"
        },
        "id": "Y5lD_5bCfKSj",
        "outputId": "d1df6931-0cb1-40b1-f4b9-8fd902e7f6c6"
      },
      "execution_count": null,
      "outputs": [
        {
          "output_type": "stream",
          "name": "stdout",
          "text": [
            "Enter lenth of list5\n",
            "Enter Number10\n",
            "Enter Number2\n",
            "Enter Number32\n",
            "Enter Number21\n",
            "Enter Number5\n",
            "Before Sorting [10, 2, 32, 21, 5]\n",
            "After Sorting [2, 5, 10, 21, 32]\n"
          ]
        }
      ]
    },
    {
      "cell_type": "code",
      "source": [
        "#Q5 Reversing the Number\n",
        "a = int(input(\"Enter the number:\"))\n",
        "rev = 0\n",
        "while a != 0:\n",
        "  b = a%10;\n",
        "  rev = 10*rev + b\n",
        "  a = a//10\n",
        "print(rev)"
      ],
      "metadata": {
        "colab": {
          "base_uri": "https://localhost:8080/"
        },
        "id": "ZIcuB5i-fWXD",
        "outputId": "e702fd9b-3e36-47f0-8ec3-303de172b5a1"
      },
      "execution_count": null,
      "outputs": [
        {
          "output_type": "stream",
          "name": "stdout",
          "text": [
            "Enter the number:12345\n",
            "54321\n"
          ]
        }
      ]
    },
    {
      "cell_type": "code",
      "source": [
        "#Q6 Print the pattern\n",
        "a = int(input(\"Enter the length:\\n\"))\n",
        "for i in range(1,a+1):\n",
        "  for j in range(1,i+1):\n",
        "    print(j,end=\" \")\n",
        "  print(\"\")\n"
      ],
      "metadata": {
        "colab": {
          "base_uri": "https://localhost:8080/"
        },
        "id": "6xuSFxX5fdWr",
        "outputId": "0869d4c5-718d-498f-a2c7-b657d6c74e1b"
      },
      "execution_count": null,
      "outputs": [
        {
          "output_type": "stream",
          "name": "stdout",
          "text": [
            "Enter the length:\n",
            "7\n",
            "1 \n",
            "1 2 \n",
            "1 2 3 \n",
            "1 2 3 4 \n",
            "1 2 3 4 5 \n",
            "1 2 3 4 5 6 \n",
            "1 2 3 4 5 6 7 \n"
          ]
        }
      ]
    }
  ]
}