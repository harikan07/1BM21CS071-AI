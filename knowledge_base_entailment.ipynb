{
  "nbformat": 4,
  "nbformat_minor": 0,
  "metadata": {
    "colab": {
      "provenance": [],
      "include_colab_link": true
    },
    "kernelspec": {
      "name": "python3",
      "display_name": "Python 3"
    },
    "language_info": {
      "name": "python"
    }
  },
  "cells": [
    {
      "cell_type": "markdown",
      "metadata": {
        "id": "view-in-github",
        "colab_type": "text"
      },
      "source": [
        "<a href=\"https://colab.research.google.com/github/harikan07/1BM21CS071-AI/blob/main/knowledge_base_entailment.ipynb\" target=\"_parent\"><img src=\"https://colab.research.google.com/assets/colab-badge.svg\" alt=\"Open In Colab\"/></a>"
      ]
    },
    {
      "cell_type": "code",
      "execution_count": null,
      "metadata": {
        "id": "QfmjvFhQUVBy",
        "colab": {
          "base_uri": "https://localhost:8080/"
        },
        "outputId": "f5f01919-a58d-4b96-beec-4cee89f582ad"
      },
      "outputs": [
        {
          "output_type": "stream",
          "name": "stdout",
          "text": [
            "Knowledge Base: ~r & (Implies(p, q)) & (Implies(q, r))\n",
            "Query: p\n",
            "Query entails Knowledge Base: False\n"
          ]
        }
      ],
      "source": [
        "from sympy import symbols, And, Not, Implies, satisfiable\n",
        "\n",
        "def create_knowledge_base():\n",
        "    # Define propositional symbols\n",
        "    p = symbols('p')\n",
        "    q = symbols('q')\n",
        "    r = symbols('r')\n",
        "\n",
        "    # Define knowledge base using logical statements\n",
        "    knowledge_base = And(\n",
        "        Implies(p, q),        # If p then q\n",
        "        Implies(q, r),        # If q then r\n",
        "        Not(r)                # Not r\n",
        "    )\n",
        "\n",
        "    return knowledge_base\n",
        "\n",
        "def query_entails(knowledge_base, query):\n",
        "    # Check if the knowledge base entails the query\n",
        "    entailment = satisfiable(And(knowledge_base, Not(query)))\n",
        "\n",
        "    # If there is no satisfying assignment, then the query is entailed\n",
        "    return not entailment\n",
        "\n",
        "if __name__ == \"__main__\":\n",
        "    # Create the knowledge base\n",
        "    kb = create_knowledge_base()\n",
        "\n",
        "    # Define a query\n",
        "    query = symbols('p')\n",
        "\n",
        "    # Check if the query entails the knowledge base\n",
        "    result = query_entails(kb, query)\n",
        "\n",
        "    # Display the results\n",
        "    print(\"Knowledge Base:\", kb)\n",
        "    print(\"Query:\", query)\n",
        "    print(\"Query entails Knowledge Base:\", result)\n"
      ]
    }
  ]
}