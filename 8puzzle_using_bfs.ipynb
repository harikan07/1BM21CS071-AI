{
  "nbformat": 4,
  "nbformat_minor": 0,
  "metadata": {
    "colab": {
      "provenance": [],
      "authorship_tag": "ABX9TyPaqvsjgGqbjjeSt2/oNNTT",
      "include_colab_link": true
    },
    "kernelspec": {
      "name": "python3",
      "display_name": "Python 3"
    },
    "language_info": {
      "name": "python"
    }
  },
  "cells": [
    {
      "cell_type": "markdown",
      "metadata": {
        "id": "view-in-github",
        "colab_type": "text"
      },
      "source": [
        "<a href=\"https://colab.research.google.com/github/harikan07/1BM21CS071-AI/blob/main/8puzzle_using_bfs.ipynb\" target=\"_parent\"><img src=\"https://colab.research.google.com/assets/colab-badge.svg\" alt=\"Open In Colab\"/></a>"
      ]
    },
    {
      "cell_type": "code",
      "execution_count": 1,
      "metadata": {
        "colab": {
          "base_uri": "https://localhost:8080/"
        },
        "id": "YwC_wJ7gvVVd",
        "outputId": "c4ee0240-1c76-45d5-b028-c42e5c047724"
      },
      "outputs": [
        {
          "output_type": "stream",
          "name": "stdout",
          "text": [
            "1 | 2 | 3\n",
            "4 | 5 | 6\n",
            "0 | 7 | 8\n",
            "-----------\n",
            "1 | 2 | 3\n",
            "0 | 5 | 6\n",
            "4 | 7 | 8\n",
            "-----------\n",
            "1 | 2 | 3\n",
            "4 | 5 | 6\n",
            "7 | 0 | 8\n",
            "-----------\n",
            "0 | 2 | 3\n",
            "1 | 5 | 6\n",
            "4 | 7 | 8\n",
            "-----------\n",
            "1 | 2 | 3\n",
            "5 | 0 | 6\n",
            "4 | 7 | 8\n",
            "-----------\n",
            "1 | 2 | 3\n",
            "4 | 0 | 6\n",
            "7 | 5 | 8\n",
            "-----------\n",
            "1 | 2 | 3\n",
            "4 | 5 | 6\n",
            "7 | 8 | 0\n",
            "-----------\n",
            "Success\n"
          ]
        }
      ],
      "source": [
        "def bfs(src,target):\n",
        "    queue=[]\n",
        "    queue.append(src)\n",
        "    exp=[]\n",
        "    while len(queue)>0:\n",
        "        source=queue.pop(0)\n",
        "        #print(\"queue\",queue)\n",
        "        exp.append(source)\n",
        "\n",
        "        print(source[0],'|',source[1],'|',source[2])\n",
        "        print(source[3],'|',source[4],'|',source[5])\n",
        "        print(source[6],'|',source[7],'|',source[8])\n",
        "        print(\"-----------\")\n",
        "        if source==target:\n",
        "            print(\"Success\")\n",
        "            return\n",
        "        poss_moves_to_do=[]\n",
        "        poss_moves_to_do=possible_moves(source,exp)\n",
        "        #print(\"possible moves\",poss_moves_to_do)\n",
        "        for move in poss_moves_to_do:\n",
        "            if move not in exp and move not in queue:\n",
        "              #print(\"move\",move)\n",
        "              queue.append(move)\n",
        "\n",
        "def possible_moves(state,visited_states):\n",
        "    b=state.index(0)\n",
        "\n",
        "    #direction array\n",
        "    d=[]\n",
        "    if b not in [0,1,2]:\n",
        "        d.append('u')\n",
        "    if b not in [6,7,8]:\n",
        "        d.append('d')\n",
        "    if b not in [0,3,6]:\n",
        "        d.append('l')\n",
        "    if b not in [2,5,8]:\n",
        "        d.append('r')\n",
        "    pos_moves_it_can=[]\n",
        "\n",
        "    for i in d:\n",
        "        pos_moves_it_can.append(gen(state,i,b))\n",
        "    return [move_it_can for move_it_can in pos_moves_it_can if move_it_can not in visited_states]\n",
        "\n",
        "def gen(state,m,b):\n",
        "    temp=state.copy()\n",
        "    if m=='d':\n",
        "        temp[b+3],temp[b]=temp[b],temp[b+3]\n",
        "    if m=='u':\n",
        "        temp[b-3],temp[b]=temp[b],temp[b-3]\n",
        "    if m=='l':\n",
        "        temp[b-1],temp[b]=temp[b],temp[b-1]\n",
        "    if m=='r':\n",
        "        temp[b+1],temp[b]=temp[b],temp[b+1]\n",
        "    return temp\n",
        "\n",
        "src=[1,2,3,4,5,6,0,7,8]\n",
        "target=[1,2,3,4,5,6,7,8,0]\n",
        "bfs(src,target)"
      ]
    }
  ]
}